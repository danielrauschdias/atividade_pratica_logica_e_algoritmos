{
 "cells": [
  {
   "cell_type": "code",
   "execution_count": 5,
   "id": "a1813984",
   "metadata": {},
   "outputs": [
    {
     "name": "stdout",
     "output_type": "stream",
     "text": [
      "Bem-vindo à Loja do Daniel Rausch Dias\n",
      "Digite o valor do produto: 10\n",
      "Digite a quantidade do produto: 150\n",
      "O valor sem desconto foi: R$ 1500.00\n",
      "O valor com desconto foi: R$ 1350.00  (desconto de 10%)\n"
     ]
    }
   ],
   "source": [
    "#Exercício 1\n",
    "print('Bem-vindo à Loja do Daniel Rausch Dias')\n",
    "valorUnitario = float(input('Digite o valor do produto: ')) #Recebe o valor unitário do produto\n",
    "quantidade = float(input('Digite a quantidade do produto: ')) #Recebe a quantidade do produto\n",
    "if(quantidade<=9):\n",
    "    desconto = 0\n",
    "elif(quantidade>=10 and quantidade<=99):\n",
    "    desconto = 5\n",
    "elif(quantidade>=100 and quantidade<=999):\n",
    "    desconto = 10\n",
    "else:\n",
    "    desconto = 15\n",
    "valorSemDesconto = valorUnitario * quantidade\n",
    "valorComDesconto = valorSemDesconto - (valorSemDesconto * (desconto/100))\n",
    "print('O valor sem desconto foi: R$ {:.2f}'.format(valorSemDesconto))\n",
    "print('O valor com desconto foi: R$ {:.2f}  (desconto de {}%)'.format(valorComDesconto, desconto))"
   ]
  },
  {
   "cell_type": "code",
   "execution_count": null,
   "id": "4e2d40d6",
   "metadata": {},
   "outputs": [],
   "source": []
  }
 ],
 "metadata": {
  "kernelspec": {
   "display_name": "Python 3 (ipykernel)",
   "language": "python",
   "name": "python3"
  },
  "language_info": {
   "codemirror_mode": {
    "name": "ipython",
    "version": 3
   },
   "file_extension": ".py",
   "mimetype": "text/x-python",
   "name": "python",
   "nbconvert_exporter": "python",
   "pygments_lexer": "ipython3",
   "version": "3.9.7"
  }
 },
 "nbformat": 4,
 "nbformat_minor": 5
}
